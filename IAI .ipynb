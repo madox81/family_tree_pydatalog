{
  "nbformat": 4,
  "nbformat_minor": 0,
  "metadata": {
    "colab": {
      "provenance": []
    },
    "kernelspec": {
      "name": "python3",
      "display_name": "Python 3"
    },
    "language_info": {
      "name": "python"
    }
  },
  "cells": [
    {
      "cell_type": "markdown",
      "source": [
        "## *Expert System based on predicate logic using **pyDatalog** library.*\n",
        "*The system will infer family realationships based on a family tree in a csv file*\n",
        "\n",
        "***Steps:***\n",
        "\n",
        "1- Install pyDatalog library using pip.\n",
        "\n",
        "2- Import pyDatalog and csv library.\n",
        "\n",
        "3- Create terms using pyDatalof.create_terms().\n",
        "\n",
        "4- Open csv file in read mode then load its contents into variable **rows** usin csv.DictReader class.\n",
        "\n",
        "5- Loop throw **rows** and load facts to agent's ***Knowledge Base*** .\n",
        "\n",
        "6- Building rules that agent will use for reasoning.\n",
        "\n",
        "7- Initiate queries to assert facts."
      ],
      "metadata": {
        "id": "AsCWlyuVsIXX"
      }
    },
    {
      "cell_type": "markdown",
      "source": [
        "## pyDatalog Module Installation"
      ],
      "metadata": {
        "id": "tLJ1Svgam4Tv"
      }
    },
    {
      "cell_type": "code",
      "execution_count": null,
      "metadata": {
        "id": "6Lt1d2FTrlSy",
        "colab": {
          "base_uri": "https://localhost:8080/"
        },
        "outputId": "9b87e350-fdcf-4eb9-e613-00117e4c28bc"
      },
      "outputs": [
        {
          "output_type": "stream",
          "name": "stdout",
          "text": [
            "Collecting pyDatalog\n",
            "  Downloading pyDatalog-0.17.4-cp310-cp310-manylinux_2_17_x86_64.manylinux2014_x86_64.whl (1.8 MB)\n",
            "\u001b[2K     \u001b[90m━━━━━━━━━━━━━━━━━━━━━━━━━━━━━━━━━━━━━━━━\u001b[0m \u001b[32m1.8/1.8 MB\u001b[0m \u001b[31m9.6 MB/s\u001b[0m eta \u001b[36m0:00:00\u001b[0m\n",
            "\u001b[?25hInstalling collected packages: pyDatalog\n",
            "Successfully installed pyDatalog-0.17.4\n"
          ]
        }
      ],
      "source": [
        "# Install pyDatalog\n",
        "%pip install pyDatalog"
      ]
    },
    {
      "cell_type": "markdown",
      "source": [
        "## Modules Importing"
      ],
      "metadata": {
        "id": "gOGFmJYBnNy0"
      }
    },
    {
      "cell_type": "code",
      "source": [
        "# Import pyDatalog & csv libraries\n",
        "from csv import DictReader\n",
        "from pyDatalog import pyDatalog as dl"
      ],
      "metadata": {
        "id": "5jldZUECvbr7"
      },
      "execution_count": null,
      "outputs": []
    },
    {
      "cell_type": "markdown",
      "source": [
        "## Terms Defintion"
      ],
      "metadata": {
        "id": "bW7b_4mdna1z"
      }
    },
    {
      "cell_type": "code",
      "source": [
        "# Defien terms\n",
        "# s_father_of: Step father\n",
        "# f_inlaw_of: Father in law\n",
        "# m_inlaw_of: Mother in law\n",
        "# b_inlaw_of: Brother in law\n",
        "# s_inlaw_of: Sister in law\n",
        "# n_inlaw_of: Nephew in law\n",
        "# nc_inlaw_of: Niece in law\n",
        "# g_father_of: Grand father\n",
        "# g_mother_of: Grand mother\n",
        "dl.create_terms(\n",
        "    '''\n",
        "    parent_of, maried_to, gender_of, father_of,\n",
        "    mother_of, brother_of, sister_of, s_father_of,\n",
        "    cousin_of,aunt_of, uncle_of, nephew_of, niece_of,\n",
        "    f_inlaw_of, m_inlaw_of, b_inlaw_of,s_inlaw_of,\n",
        "    n_inlaw_of, nc_inlaw_of, g_father_of, g_mother_of,\n",
        "    ancestor_of, X, Y, Z, W\n",
        "    '''\n",
        ")"
      ],
      "metadata": {
        "id": "YJRVhsb8v-Y1"
      },
      "execution_count": null,
      "outputs": []
    },
    {
      "cell_type": "markdown",
      "source": [
        "## Loading Facts"
      ],
      "metadata": {
        "id": "-uXlTeexno4l"
      }
    },
    {
      "cell_type": "code",
      "source": [
        "# Open csv file read the contents and load them as facts to Agent's KB\n",
        "with open('data.csv') as csvfile:\n",
        "  rows = DictReader(\n",
        "      csvfile,\n",
        "      fieldnames=['person', 'father', 'mother', 'gender'],\n",
        "      delimiter=\";\"\n",
        "      )\n",
        "\n",
        "  for row in rows:\n",
        "    # Facts\n",
        "    +gender_of(row['person'], row['gender'])\n",
        "    +father_of(row['person'], row['father'])\n",
        "    +mother_of(row['person'], row['mother'])\n",
        "    +maried_to(row['father'], row['mother'])\n"
      ],
      "metadata": {
        "id": "E8UiaQbNwQrL"
      },
      "execution_count": null,
      "outputs": []
    },
    {
      "cell_type": "markdown",
      "source": [
        "## Rules Definition"
      ],
      "metadata": {
        "id": "IskEB5yqn87O"
      }
    },
    {
      "cell_type": "code",
      "source": [
        "# Parents rules\n",
        "parent_of(X, Y) <= father_of(X, Y)\n",
        "parent_of(X, Y) <= mother_of(X, Y)\n",
        "###############################################################################\n",
        "# Brothers & Sisters rules\n",
        "# Brother: Same parents and is male\n",
        "brother_of(X, Y) <= parent_of(X, Z) & parent_of(Y, Z) & ~(X==Y) & gender_of(Y, 'male')\n",
        "# Sister:  Same parents and is female\n",
        "sister_of(X, Y) <= parent_of(X, Z) & parent_of(Y, Z) & ~(X==Y) & gender_of(Y, 'female')\n",
        "###############################################################################\n",
        "# Step father rule\n",
        "# Step father: maried to person's mother bunt not hes\\her father\n",
        "s_father_of(X, Y) <= mother_of(X, Z) & maried_to(Y, Z) & ~(father_of(X, Y))\n",
        "##############################################################################\n",
        "# Cousin: fathers are brothers\n",
        "cousin_of(X, Y) <= father_of(X, Z) & father_of(Y, W) & brother_of(Z, W)\n",
        "##############################################################################\n",
        "# Aunt & Uncle rules\n",
        "# Aunt: siter of father or mother\n",
        "aunt_of(X, Y) <= parent_of(X, Z) & sister_of(Z, Y)\n",
        "# Uncle: brother of father or sister\n",
        "uncle_of(X, Y) <= parent_of(X, Z) & brother_of(Z, Y)\n",
        "##############################################################################\n",
        "# Nephew & Niecw rules\n",
        "# Nephew: child of sister or child of brother and the child is male\n",
        "nephew_of(X, Y) <= uncle_of(Y, X) & gender_of(Y, 'male')\n",
        "nephew_of(X, Y) <= aunt_of(Y, X)  & gender_of(Y, 'male')\n",
        "# Niece: child of sister or child of brother and the child is female\n",
        "niece_of(X, Y) <= uncle_of(Y, X) & gender_of(Y, 'female')\n",
        "niece_of(X, Y) <= aunt_of(Y, X)  & gender_of(Y, 'female')\n",
        "##############################################################################\n",
        "# In-law rules\n",
        "# Father in law: father of the husbend or the wife (x,y or y,x)\n",
        "f_inlaw_of(X, Y) <= maried_to(X, Z) & father_of(Z, Y)\n",
        "f_inlaw_of(X, Y) <= maried_to(Z, X) & father_of(Z, Y)\n",
        "# Mother in law: mother of the husbend or the wife (x,y or y,x)\n",
        "m_inlaw_of(X, Y) <= maried_to(X, Z) & mother_of(Z, Y)\n",
        "m_inlaw_of(X, Y) <= maried_to(Z, X) & mother_of(Z, Y)\n",
        "\n",
        "# Brother in law: sister's husbend\n",
        "b_inlaw_of(X, Y) <= sister_of(X, Z) & maried_to(Y, Z)\n",
        "# Sister in law : brothe's wife\n",
        "s_inlaw_of(X, Y) <= brother_of(X, Z) & maried_to(Z, Y)\n",
        "\n",
        "# Nephew in law: male children of wife's brothers and sisters\n",
        "n_inlaw_of(X, Y) <= maried_to(X, Z) & aunt_of(Y, Z) & gender_of(Y, 'male')\n",
        "# Nephew in law: male children of husband's brothers and sisters\n",
        "n_inlaw_of(X, Y) <= maried_to(Z, X) & uncle_of(Y, Z) & gender_of(Y, 'male')\n",
        "# Niece in law: female children of wife's brothers and sisters\n",
        "nc_inlaw_of(X, Y) <= maried_to(X, Z) & aunt_of(Y, Z) & gender_of(Y, 'female')\n",
        "# Niece in law: female children of husband's brothers and sisters\n",
        "nc_inlaw_of(X, Y) <= maried_to(Z, X) & uncle_of(Y, Z) & gender_of(Y, 'female')\n",
        "#############################################################################\n",
        "# Grandparents rules\n",
        "# Grandfather: parent of the child parent and is male\n",
        "g_father_of(X, Y) <= parent_of(X, Z) & parent_of(Z, Y) & gender_of(Y, 'male')\n",
        "# Grandmather: parent of the child parent and is female\n",
        "g_mother_of(X, Y) <= parent_of(X, Z) & parent_of(Z, Y) & gender_of(Y, 'female')\n",
        "##############################################################################\n",
        "# Ancestors rules\n",
        "# Ancestor: parent of the person or parent of the person's parent\n",
        "ancestor_of(X, Y) <= parent_of(X, Y)\n",
        "ancestor_of(X, Y) <= parent_of(X, Z) & ancestor_of(Z, Y)"
      ],
      "metadata": {
        "id": "27_fjmjYYDXm"
      },
      "execution_count": null,
      "outputs": []
    },
    {
      "cell_type": "markdown",
      "source": [
        "## Quiries"
      ],
      "metadata": {
        "id": "yvHylfVeoGcG"
      }
    },
    {
      "cell_type": "markdown",
      "source": [
        "#### *Parents*"
      ],
      "metadata": {
        "id": "t7vGEfilo3Sg"
      }
    },
    {
      "cell_type": "code",
      "source": [
        "print(\"Parent of Mohamad A | \", parent_of('Mohamad A', X))\n",
        "print(\"\\nFathr of Raheel | \", father_of('Raheel', X))\n",
        "print(\"\\nMother of Inana | \", mother_of('Inana', X))\n",
        "print(\"\\nKamal's children |\", parent_of(X, 'Kamal'))"
      ],
      "metadata": {
        "id": "OUvHTKLByIsT"
      },
      "execution_count": null,
      "outputs": []
    },
    {
      "cell_type": "markdown",
      "source": [
        "### *Brothers & Sisters*"
      ],
      "metadata": {
        "id": "HWd3dJQMrPDj"
      }
    },
    {
      "cell_type": "code",
      "source": [
        "print(\"Brothers of Mohamad K | \", brother_of('Mohamad K', X))\n",
        "print(\"\\nSisters of Orwa | \", sister_of('Orwa', X))\n",
        "print(\"\\nBrother of Alia | \", brother_of('Alia', X))\n",
        "print(\"\\nSister's of Zelal |\",sister_of('Zelal', X))"
      ],
      "metadata": {
        "id": "cvbMmSBEO4WL"
      },
      "execution_count": null,
      "outputs": []
    },
    {
      "cell_type": "markdown",
      "source": [
        "### *Step Father*"
      ],
      "metadata": {
        "id": "_eVQn53ZE2zU"
      }
    },
    {
      "cell_type": "code",
      "source": [
        "print(\"Father of Samer | \", father_of('Samer', X))\n",
        "print(\"\\nStepfather of Samer |\",s_father_of('Samer', X))\n",
        "print(\"\\nSaid is stepfather of |\",s_father_of(X, 'Said'))"
      ],
      "metadata": {
        "id": "hsloewgkC4Jb"
      },
      "execution_count": null,
      "outputs": []
    },
    {
      "cell_type": "markdown",
      "source": [
        "### *Cousines*"
      ],
      "metadata": {
        "id": "Auwzg33sGtLw"
      }
    },
    {
      "cell_type": "code",
      "source": [
        "print(\"Cousins of Ahmad K |\",cousin_of('Ahmad K', X))\n",
        "print(\"\\nAli's Cousines | \", cousin_of(X, 'Ali'))"
      ],
      "metadata": {
        "id": "iNsSXqGAGymv"
      },
      "execution_count": null,
      "outputs": []
    },
    {
      "cell_type": "markdown",
      "source": [
        "### *Uncles & Aunts*"
      ],
      "metadata": {
        "id": "SPFrwka18nLL"
      }
    },
    {
      "cell_type": "code",
      "source": [
        "print(\"Uncle of Ali | \", uncle_of('Ali', X))\n",
        "print(\"\\nAunt of Lobana | \", aunt_of('Lobana', X))\n",
        "print(\"\\nYasser uncle of | \",uncle_of(X, 'Yasser'))\n",
        "print(\"\\nEnad aunt of | \", aunt_of(X, 'Enad'))"
      ],
      "metadata": {
        "id": "pxLDzH788xoD"
      },
      "execution_count": null,
      "outputs": []
    },
    {
      "cell_type": "markdown",
      "source": [
        "### *Nephew & Niece*"
      ],
      "metadata": {
        "id": "NaVZ_ewE6RJG"
      }
    },
    {
      "cell_type": "code",
      "source": [
        "print(\"Nephew of Ayman | \", nephew_of('Ayman', X))\n",
        "print(\"\\nNephew of Enad | \", nephew_of('Enad', X))\n",
        "print(\"\\nNiece of Yasser | \", niece_of('Yasser', X))\n",
        "print(\"\\nNiece of Zelal | \", niece_of('Zelal', X))"
      ],
      "metadata": {
        "id": "B_nmTq1b6VwT"
      },
      "execution_count": null,
      "outputs": []
    },
    {
      "cell_type": "markdown",
      "source": [
        "### *In Law*"
      ],
      "metadata": {
        "id": "bBvOKVbK_T1j"
      }
    },
    {
      "cell_type": "code",
      "source": [
        "print(\"Father in law of Khadija H | \", f_inlaw_of('Khadija H', X))\n",
        "print(\"\\nMother in law of Najla | \", m_inlaw_of('Najla', X))\n",
        "print(\"\\nAhmad S is father in law of | \", f_inlaw_of(X, 'Ahmad S'))\n",
        "print(\"\\nBrother in law of Ayman |\", b_inlaw_of('Ayman', X))\n",
        "print(\"\\nSister in law of Yasser |\", s_inlaw_of('Yasser', X))"
      ],
      "metadata": {
        "id": "Yrxb42iU_eJd"
      },
      "execution_count": null,
      "outputs": []
    },
    {
      "cell_type": "code",
      "source": [
        "print('Nephew in law of Mona | ', n_inlaw_of('Mona', X))\n",
        "print('\\nNiece in law of Jamal | ', nc_inlaw_of('Jamal', X))"
      ],
      "metadata": {
        "id": "wftlf78cGpQF"
      },
      "execution_count": null,
      "outputs": []
    },
    {
      "cell_type": "markdown",
      "source": [
        "### *Grandfather & Granmother*"
      ],
      "metadata": {
        "id": "cHmQz_d4CE94"
      }
    },
    {
      "cell_type": "code",
      "source": [
        "print(\"Grandfather of Zainab | \", g_father_of('Zainab', X))\n",
        "print(\"\\nMohamad is grandfather of | \", g_father_of(X, 'Mohamad'))\n",
        "print(\"\\nGrandmother of Lama | \", g_mother_of('Lama', X))\n",
        "print(\"\\nGhada is grandmother of | \", g_mother_of(X, 'Ghada'))"
      ],
      "metadata": {
        "id": "d7BZsJv2CML8"
      },
      "execution_count": null,
      "outputs": []
    },
    {
      "cell_type": "markdown",
      "source": [
        "### *Ancestor*"
      ],
      "metadata": {
        "id": "yR07ccZXEThr"
      }
    },
    {
      "cell_type": "code",
      "source": [
        "print(\"Ancestors of Inana | \", ancestor_of('Inana', X))\n",
        "print(\"\\nNoma is ancestor of | \", ancestor_of(X, 'Noma'))"
      ],
      "metadata": {
        "id": "pCVhol_dEcHM"
      },
      "execution_count": null,
      "outputs": []
    }
  ]
}